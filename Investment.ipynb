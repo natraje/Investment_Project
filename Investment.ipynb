{
 "cells": [
  {
   "cell_type": "markdown",
   "metadata": {},
   "source": [
    "# Section 1: \n",
    "  * Load the data into the dataframes \n",
    "  * Clean the data and format for better analysis\n",
    "  * Find out unique companies and rounds details\n",
    "  * Merge by a common key to generate master dataframe"
   ]
  },
  {
   "cell_type": "code",
   "execution_count": 460,
   "metadata": {},
   "outputs": [
    {
     "name": "stdout",
     "output_type": "stream",
     "text": [
      "---------Checkpoint 1 Start---------\n",
      "Find unique details rounds and Company(name,link): 66368 66037 66368\n",
      "# of observations in MF: (114949, 15)\n",
      "---------Checkpoint 1 End-----------\n",
      "\n"
     ]
    }
   ],
   "source": [
    "import pandas as pd\n",
    "import numpy as np\n",
    "import matplotlib.pyplot as plt\n",
    "from matplotlib.gridspec import GridSpec\n",
    "\n",
    "print('---------Checkpoint 1 Start---------')\n",
    "companies=pd.read_csv('companies.txt',sep=\"\\t\", engine='python')\n",
    "rounds2=pd.read_csv('rounds2.csv', engine='python')\n",
    "rounds2['company_permalink']= rounds2['company_permalink'].str.encode('utf-8').str.decode('ascii', 'ignore')\n",
    "companies['name']= companies['name'].str.encode('utf-8').str.decode('ascii', 'ignore')\n",
    "companies['permalink']= companies['permalink'].str.encode('utf-8').str.decode('ascii', 'ignore')\n",
    "## To make comparison simple convert the company names to lower case\n",
    "companies['permalink']=companies['permalink'].str.lower()\n",
    "rounds2['company_permalink']=rounds2['company_permalink'].str.lower()\n",
    "companies['name']=companies['name'].str.lower()\n",
    "print('Find unique details rounds and Company(name,link):',rounds2['company_permalink'].nunique(),companies['name'].nunique(),companies['permalink'].nunique())\n",
    "# Data Cleaning start \n",
    "#Find a duplicated and decide on the index key for company \n",
    "companies['name'].fillna( method ='backfill', inplace = True) \n",
    "##Find no of rows not present in Rounds table y comparing with company\n",
    "notprsnt=rounds2[~rounds2['company_permalink'].isin(companies['permalink'])].size\n",
    "companies.set_index('permalink',inplace=True)\n",
    "master_frame=pd.merge(rounds2,companies, how='inner', left_on='company_permalink', right_on='permalink')\n",
    "print('# of observations in MF:',master_frame.shape)\n",
    "print('---------Checkpoint 1 End-----------\\n')"
   ]
  },
  {
   "cell_type": "markdown",
   "metadata": {},
   "source": [
    "## Analyze the funding types - basic level\n",
    "    * Since the data is in million and define million variable\n",
    "    * Filter the master frame based on the given investment types \n",
    "    * Since it is only 4 investment types, we can just do a manual look up and figure out the best fit for Spark"
   ]
  },
  {
   "cell_type": "code",
   "execution_count": 461,
   "metadata": {},
   "outputs": [
    {
     "name": "stdout",
     "output_type": "stream",
     "text": [
      "---------Checkpoint 2 Start---------\n",
      "funding_round_type\n",
      "angel              0.958694\n",
      "private_equity    73.308593\n",
      "seed               0.719818\n",
      "venture           11.748949\n",
      "Name: raised_amount_usd, dtype: float64\n",
      "---------Checkpoint 2 End-----------\n",
      "\n"
     ]
    }
   ],
   "source": [
    "print('---------Checkpoint 2 Start---------')\n",
    "oneMillion=1000000\n",
    "master_frame=master_frame[master_frame['funding_round_type'].isin(['venture','angel','seed','private_equity'])]\n",
    "avgFunding=master_frame.groupby('funding_round_type')['raised_amount_usd'].mean()/oneMillion\n",
    "print(avgFunding)\n",
    "FT='venture'\n",
    "print('---------Checkpoint 2 End-----------\\n')"
   ]
  },
  {
   "cell_type": "markdown",
   "metadata": {},
   "source": [
    "## WIKI Country list \n",
    "    * Based on the information provided in WIKI, the top 3 english speaking coutries are chosen\n",
    "    * For the selected investment type, identify top 9 countries details"
   ]
  },
  {
   "cell_type": "code",
   "execution_count": 462,
   "metadata": {},
   "outputs": [
    {
     "name": "stdout",
     "output_type": "stream",
     "text": [
      "---------Checkpoint 3 Start---------\n",
      "Top 3 English speaking Countries\n",
      "    Rank code\n",
      "0     1  USA\n",
      "1     2  GBR\n",
      "2     3  IND\n",
      "Top 9 Countries details\n",
      "   country_code  raised_amount_usd\n",
      "0          USA       4.225108e+11\n",
      "1          CHN       3.983542e+10\n",
      "2          GBR       2.024563e+10\n",
      "3          IND       1.439186e+10\n",
      "4          CAN       9.583332e+09\n",
      "5          FRA       7.259537e+09\n",
      "6          ISR       6.907515e+09\n",
      "7          DEU       6.346960e+09\n",
      "8          JPN       3.363677e+09\n",
      "---------Checkpoint 3 End-----------\n",
      "\n"
     ]
    }
   ],
   "source": [
    "#CheckPoint 3\n",
    "print('---------Checkpoint 3 Start---------')\n",
    "# Top 3 english countries\n",
    "top3=pd.DataFrame({'Rank': [1,2,3],\n",
    "         'code': ['USA', 'GBR', 'IND']})\n",
    "country1=top3.loc[0].code\n",
    "country2=top3.loc[1].code\n",
    "country3=top3.loc[2].code\n",
    "print('Top 3 English speaking Countries\\n',top3)\n",
    "top9countriesDF=master_frame[master_frame['funding_round_type']==FT].groupby('country_code')['raised_amount_usd'].sum().sort_values(ascending=False).head(9)\n",
    "top9countriesDF=top9countriesDF.reset_index()\n",
    "print('Top 9 Countries details\\n',top9countriesDF)\n",
    "print('---------Checkpoint 3 End-----------\\n')"
   ]
  },
  {
   "cell_type": "markdown",
   "metadata": {},
   "source": [
    "## Determining Main sectors\n",
    "    * Load the mapping file\n",
    "    * Convert the multi-columns data into a single row \n",
    "    * Final outcome to be primary sector to main sector"
   ]
  },
  {
   "cell_type": "code",
   "execution_count": 463,
   "metadata": {},
   "outputs": [
    {
     "name": "stdout",
     "output_type": "stream",
     "text": [
      "---------Checkpoint 4 Start---------\n",
      "Main Sector Details: (687, 2)\n",
      "---------Checkpoint 4 End-----------\n",
      "\n"
     ]
    }
   ],
   "source": [
    "print('---------Checkpoint 4 Start---------')\n",
    "#Working with Sectors and analyse the data\n",
    "## Parse the sector file and convert them as row mapping from column\n",
    "main_sector=pd.read_csv('mapping.csv', engine='python')\n",
    "main_sector\n",
    "main_sector = main_sector.melt(id_vars=\"category_list\",var_name=\"master_category\")\n",
    "# Convert columns as a sigle colum and remove the non primary sectors\n",
    "main_sector = main_sector.loc[~(main_sector[\"value\"]==0) ]\n",
    "main_sector=main_sector.drop(columns=\"value\")\n",
    "# Remove the blank column\n",
    "main_sector=main_sector[pd.notnull(main_sector['category_list'])]\n",
    "print('Main Sector Details:',main_sector.shape) \n",
    "print('---------Checkpoint 4 End-----------\\n')"
   ]
  },
  {
   "cell_type": "code",
   "execution_count": 464,
   "metadata": {},
   "outputs": [
    {
     "name": "stdout",
     "output_type": "stream",
     "text": [
      "---------Checkpoint 5 Start---------\n",
      "no of rows based on FT and range: (32898, 18)\n",
      "Country 1 Total investment and  total amount of inst:  23317 136905.653524\n",
      "Country 2 Total investment and  total amount of inst:  1403 7411.249516\n",
      "Country 3 Total investment and  total amount of inst:  563 3585.604489\n",
      "\n",
      "Country 1 Total count of sector\n",
      "                                main_sector  name\n",
      "0                                   Others  5489\n",
      "1               Cleantech / Semiconductors  4467\n",
      "2  Social, Finance, Analytics, Advertising  3646\n",
      "\n",
      "Country 2 Total count of sector\n",
      "                                main_sector  name\n",
      "0                                   Others   346\n",
      "1               Cleantech / Semiconductors   284\n",
      "2  Social, Finance, Analytics, Advertising   230\n",
      "\n",
      "Country 3 Total count of sector\n",
      "                                main_sector  name\n",
      "0                                   Others   185\n",
      "1               News, Search and Messaging    90\n",
      "2  Social, Finance, Analytics, Advertising    56\n",
      "\n",
      "Country 1 no of inst in 2 topsector\n",
      " name\n",
      "tigo energy    11\n",
      "aviir          11\n",
      "Name: raised_amount_usd, dtype: int64\n",
      "\n",
      "Country 2 no of inst in 2 topsector\n",
      " name\n",
      "mysupermarket    6\n",
      "helveta          6\n",
      "Name: raised_amount_usd, dtype: int64\n",
      "\n",
      "Country 3 no of inst in 2 topsector\n",
      " name\n",
      "manthan systems    6\n",
      "myntra             4\n",
      "Name: raised_amount_usd, dtype: int64\n",
      "---------Checkpoint 5 End-----------\n",
      "\n"
     ]
    }
   ],
   "source": [
    "print('---------Checkpoint 5 Start---------')\n",
    "startRange=1*oneMillion\n",
    "maxRange=15*oneMillion\n",
    "def getPS(sec): \n",
    "  return str(sec).split('|')[0]\n",
    "\n",
    "#print(master_frame.shape)\n",
    "#print(master_frame.groupby('funding_round_type')['name'].count())\n",
    "dfByRangeFT=master_frame[master_frame['funding_round_type']==FT]\n",
    "#print(dfByRangeFT.shape)\n",
    "dfByRangeFT=dfByRangeFT[(dfByRangeFT['raised_amount_usd']>=startRange) & (dfByRangeFT['raised_amount_usd']<=maxRange )]\n",
    "dfByRangeFT['primary_sector']=dfByRangeFT['category_list'].apply(getPS)\n",
    "dfByRangeFT=pd.merge(dfByRangeFT,main_sector, how='left', left_on='primary_sector', right_on='category_list')\n",
    "dfByRangeFT.rename(columns = {'master_category':'main_sector'}, inplace = True) \n",
    "print('no of rows based on FT and range:',dfByRangeFT.shape)\n",
    "\n",
    "#Create Dataframes based on top3 english speaking countries\n",
    "D1=dfByRangeFT.loc[dfByRangeFT.country_code==country1]\n",
    "D2=dfByRangeFT.loc[dfByRangeFT.country_code==country2]\n",
    "D3=dfByRangeFT.loc[dfByRangeFT.country_code==country3]\n",
    "print('Country 1 Total investment and  total amount of inst: ',len(D1),(D1['raised_amount_usd'].sum()/oneMillion))\n",
    "print('Country 2 Total investment and  total amount of inst: ',len(D2),(D2['raised_amount_usd'].sum()/oneMillion))\n",
    "print('Country 3 Total investment and  total amount of inst: ',len(D3),(D3['raised_amount_usd'].sum()/oneMillion))\n",
    "top3CountD1=D1.groupby('main_sector')['name'].count().sort_values(ascending=False).head(3)\n",
    "top3CountD2=D2.groupby('main_sector')['name'].count().sort_values(ascending=False).head(3)\n",
    "top3CountD3=D3.groupby('main_sector')['name'].count().sort_values(ascending=False).head(3)\n",
    "top3CountD1=top3CountD1.reset_index()\n",
    "top3CountD2=top3CountD2.reset_index()\n",
    "top3CountD3=top3CountD3.reset_index()\n",
    "print('\\nCountry 1 Total count of sector\\n',top3CountD1)\n",
    "print('\\nCountry 2 Total count of sector\\n',top3CountD2)\n",
    "print('\\nCountry 3 Total count of sector\\n',top3CountD3)\n",
    "\n",
    "topCompanyD1=D1.groupby('name')['raised_amount_usd'].count().sort_values(ascending=False).head(2)\n",
    "topCompanyD2=D2.groupby('name')['raised_amount_usd'].count().sort_values(ascending=False).head(2)\n",
    "topCompanyD3=D3.groupby('name')['raised_amount_usd'].count().sort_values(ascending=False).head(2)\n",
    "print('\\nCountry 1 no of inst in 2 topsector\\n',topCompanyD1)\n",
    "print('\\nCountry 2 no of inst in 2 topsector\\n',topCompanyD2)\n",
    "print('\\nCountry 3 no of inst in 2 topsector\\n',topCompanyD3)\n",
    "print('---------Checkpoint 5 End-----------\\n')"
   ]
  },
  {
   "cell_type": "markdown",
   "metadata": {},
   "source": [
    "## Present the analysis for better visuals\n",
    "    * Plot 1: this is based on global details for the given investment types\n",
    "    * Plot 2: Top 9 countris total investments\n",
    "    * Plot 3: Combine top 3 English countries and plot by total counts"
   ]
  },
  {
   "cell_type": "code",
   "execution_count": 465,
   "metadata": {},
   "outputs": [
    {
     "name": "stdout",
     "output_type": "stream",
     "text": [
      "---------Checkpoint 6 Start---------\n"
     ]
    },
    {
     "data": {
      "image/png": "[encoded data removed]",
      "text/plain": [
       "<Figure size 432x288 with 2 Axes>"
      ]
     },
     "metadata": {},
     "output_type": "display_data"
    },
    {
     "data": {
      "image/png": "[encoded data removed]",
      "text/plain": [
       "<Figure size 432x288 with 1 Axes>"
      ]
     },
     "metadata": {},
     "output_type": "display_data"
    },
    {
     "data": {
      "image/png": "[encoded data removed]",
      "text/plain": [
       "<Figure size 432x288 with 1 Axes>"
      ]
     },
     "metadata": {
      "needs_background": "light"
     },
     "output_type": "display_data"
    },
    {
     "name": "stdout",
     "output_type": "stream",
     "text": [
      "---------Checkpoint 6 End-----------\n",
      "\n"
     ]
    }
   ],
   "source": [
    "print('---------Checkpoint 6 Start---------')\n",
    "the_grid = GridSpec(2, 2)\n",
    "s1=master_frame.groupby('funding_round_type')['raised_amount_usd'].sum().reset_index()\n",
    "s2=master_frame.groupby('funding_round_type')['raised_amount_usd'].mean().reset_index() #.sort_values(ascending=False)\n",
    "plt.subplot(the_grid[0, 1], aspect=1, title='Total Investment')\n",
    "total_pie = plt.pie(s1['raised_amount_usd'],labels=s1['funding_round_type'],  shadow=False)\n",
    "plt.subplot(the_grid[0, 0], aspect=1, title='Average Investment') #autopct='%1.1f%%',\n",
    "avg_pie = plt.pie(s2['raised_amount_usd'],labels=s2['funding_round_type'],shadow=False)\n",
    "plt.suptitle('Global Investment analysis', fontsize=14)\n",
    "plt.show()\n",
    "\n",
    "## Top 9 Countries plot top9countriesDF country_code  raised_amount_usd\n",
    "plt.pie(top9countriesDF['raised_amount_usd'],labels=top9countriesDF['country_code'],  shadow=False)\n",
    "plt.title('Top 9 countries total investment')\n",
    "plt.ylabel('Country Code')\n",
    "plt.show()\n",
    "\n",
    "## No of investments in top 3 sectors of the top 3 countries\n",
    "barWidth = 0.25\n",
    "r1 = np.arange(len(top3CountD1))\n",
    "r2 = [x + barWidth for x in r1]\n",
    "r3 = [x + barWidth for x in r2]\n",
    "\n",
    "plt.bar(r1, top3CountD1['name'], color='blue', width=barWidth, edgecolor='white', label=country1)\n",
    "plt.bar(r2, top3CountD2['name'], color='green', width=barWidth, edgecolor='white', label=country2)\n",
    "plt.bar(r3, top3CountD3['name'], color='orange', width=barWidth, edgecolor='white', label=country3)\n",
    " \n",
    "plt.xlabel('Top 3 Details', fontweight='bold')\n",
    "plt.xticks([r + barWidth for r in range(len(top3CountD1))], ['First','Second','Third'])\n",
    " \n",
    "# Create legend & Show graphic\n",
    "plt.legend()\n",
    "plt.show()\n",
    "print('---------Checkpoint 6 End-----------\\n')"
   ]
  },
  {
   "cell_type": "markdown",
   "metadata": {},
   "source": [
    "### Comments\n",
    "    * Prints are added to make the analysis easy\n",
    "    * Each section has start and end prints for easy identification\n",
    "    * Each checkpoint in individual cells for easy representation and readability"
   ]
  }
 ],
 "metadata": {
  "kernelspec": {
   "display_name": "Python 3",
   "language": "python",
   "name": "python3"
  },
  "language_info": {
   "codemirror_mode": {
    "name": "ipython",
    "version": 3
   },
   "file_extension": ".py",
   "mimetype": "text/x-python",
   "name": "python",
   "nbconvert_exporter": "python",
   "pygments_lexer": "ipython3",
   "version": "3.7.4"
  }
 },
 "nbformat": 4,
 "nbformat_minor": 2
}
